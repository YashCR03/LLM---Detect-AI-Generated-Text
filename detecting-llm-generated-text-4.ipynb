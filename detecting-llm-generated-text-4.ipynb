{
 "cells": [
  {
   "cell_type": "code",
   "execution_count": 1,
   "id": "9e7f80be",
   "metadata": {
    "execution": {
     "iopub.execute_input": "2023-12-28T13:49:07.207423Z",
     "iopub.status.busy": "2023-12-28T13:49:07.207128Z",
     "iopub.status.idle": "2023-12-28T14:31:10.928690Z",
     "shell.execute_reply": "2023-12-28T14:31:10.927463Z"
    },
    "papermill": {
     "duration": 2523.727305,
     "end_time": "2023-12-28T14:31:10.930987",
     "exception": false,
     "start_time": "2023-12-28T13:49:07.203682",
     "status": "completed"
    },
    "tags": []
   },
   "outputs": [
    {
     "name": "stderr",
     "output_type": "stream",
     "text": [
      "/opt/conda/lib/python3.10/site-packages/scipy/__init__.py:146: UserWarning: A NumPy version >=1.16.5 and <1.23.0 is required for this version of SciPy (detected version 1.24.3\n",
      "  warnings.warn(f\"A NumPy version >={np_minversion} and <{np_maxversion}\"\n"
     ]
    },
    {
     "name": "stdout",
     "output_type": "stream",
     "text": [
      "Average ROC AUC score for LogisticRegression: 0.9976010814307481\n",
      "Average ROC AUC score for XGBClassifier: 0.9983312582364613\n",
      "Average ROC AUC score for GradientBoostingClassifier: 0.9912243255143443\n",
      "Average ROC AUC score for AdaBoostClassifier: 0.9867705747013114\n",
      "Average ROC AUC score for MultinomialNB: 0.9909557638516768\n",
      "Average ROC AUC score for SGDClassifier: 0.9981264440597704\n",
      "Average ROC AUC score for RandomForestClassifier: 0.9958137984279647\n",
      "Accuracy: 0.9998960544367967\n",
      "\n",
      "ROC AUC train: 0.9998960544367967\n"
     ]
    }
   ],
   "source": [
    "# Import necessary libraries\n",
    "import numpy as np\n",
    "import pandas as pd\n",
    "from sklearn.feature_extraction.text import TfidfVectorizer\n",
    "from sklearn.linear_model import LogisticRegression\n",
    "import xgboost as xgb\n",
    "from xgboost import XGBClassifier\n",
    "from sklearn.ensemble import GradientBoostingClassifier, AdaBoostClassifier, RandomForestClassifier, VotingClassifier\n",
    "from sklearn.model_selection import StratifiedKFold\n",
    "from sklearn.metrics import roc_auc_score\n",
    "from sklearn.naive_bayes import MultinomialNB\n",
    "from sklearn.linear_model import SGDClassifier\n",
    "\n",
    "# Function to load datasets\n",
    "def load_datasets():\n",
    "    custom_submission_df = pd.read_csv(\"/kaggle/input/llm-detect-ai-generated-text/sample_submission.csv\")\n",
    "    custom_test_df = pd.read_csv(\"/kaggle/input/llm-detect-ai-generated-text/test_essays.csv\")\n",
    "    custom_train_df = pd.read_csv(\"/kaggle/input/llm-detect-ai-generated-text/train_essays.csv\")\n",
    "    custom_external_train_df = pd.read_csv(\"/kaggle/input/daigt-proper-train-dataset/train_drcat_04.csv\", sep=',')\n",
    "    return custom_submission_df, custom_test_df, custom_train_df, custom_external_train_df\n",
    "\n",
    "# Function to preprocess data\n",
    "def preprocess_data(external_train_df, test_df):\n",
    "    # Rename the columns\n",
    "    external_train_df = external_train_df.rename(columns={'essay_id': 'id', 'label': 'generated', 'prompt': 'prompt_id'})\n",
    "    # Convert the prompt_id into numerical form\n",
    "    external_train_df['prompt_id'] = pd.factorize(external_train_df['prompt_id'])[0]\n",
    "    # Drop unnecessary columns\n",
    "    external_train_df = external_train_df.drop([\"source\", \"fold\"], axis=1)\n",
    "    # Concatenate text data\n",
    "    df = pd.concat([external_train_df['text'], test_df['text']], axis=0)\n",
    "    # Vectorize the text data\n",
    "    vectorizer = TfidfVectorizer(stop_words='english', max_features=50000)\n",
    "    X = vectorizer.fit_transform(df)\n",
    "    return X, external_train_df\n",
    "\n",
    "# Function to train and evaluate a model\n",
    "def train_and_evaluate(model, X, y, folds=5):\n",
    "    cv = StratifiedKFold(n_splits=folds)\n",
    "    roc_scores = []\n",
    "\n",
    "    for train_index, val_index in cv.split(X[:len(y)], y):\n",
    "        X_train_fold, X_val_fold = X[:len(y)][train_index], X[:len(y)][val_index]\n",
    "        y_train_fold, y_val_fold = y.iloc[train_index], y.iloc[val_index]\n",
    "\n",
    "        model.fit(X_train_fold, y_train_fold)\n",
    "        roc_score = roc_auc_score(y_val_fold, model.predict_proba(X_val_fold)[:, 1])\n",
    "        roc_scores.append(roc_score)\n",
    "\n",
    "    average_roc_score = sum(roc_scores) / len(roc_scores)\n",
    "    print(f\"Average ROC AUC score for {type(model).__name__}: {average_roc_score}\")\n",
    "\n",
    "# Function to train and predict using an ensemble of models\n",
    "def train_and_predict_ensemble(models, X_train, y_train, X_test):\n",
    "    ensemble_clf = VotingClassifier(estimators=models, voting='soft')\n",
    "    ensemble_clf.fit(X_train, y_train)\n",
    "\n",
    "    # Print the accuracy score\n",
    "    print(f'Accuracy: {roc_auc_score(y_train, ensemble_clf.predict_proba(X_train)[:, 1])}\\n')\n",
    "\n",
    "    # Predictions on training and test sets\n",
    "    preds_train = ensemble_clf.predict_proba(X_train)[:, 1]\n",
    "    preds_test = ensemble_clf.predict_proba(X_test)[:, 1]\n",
    "\n",
    "    # Print ROC AUC score on the training set\n",
    "    print('ROC AUC train:', roc_auc_score(y_train, preds_train))\n",
    "\n",
    "    return preds_train, preds_test\n",
    "\n",
    "# Main block to execute the code\n",
    "if __name__ == \"__main__\":\n",
    "    # Load datasets\n",
    "    custom_submission_df, custom_test_df, custom_train_df, custom_external_train_df = load_datasets()\n",
    "\n",
    "    # Preprocess data\n",
    "    custom_X, custom_y = preprocess_data(custom_external_train_df, custom_test_df)\n",
    "\n",
    "    # Create instances of models\n",
    "    logistic_model = LogisticRegression()\n",
    "    xgb_model = XGBClassifier()\n",
    "    gbc_model = GradientBoostingClassifier()\n",
    "    adbc_model = AdaBoostClassifier()\n",
    "    bayes_model = MultinomialNB(alpha=0.02)\n",
    "    sgd_model = SGDClassifier(max_iter=5000, loss=\"modified_huber\", random_state=42)\n",
    "    rf_model = RandomForestClassifier()\n",
    "\n",
    "    # Train and evaluate each model\n",
    "    train_and_evaluate(logistic_model, custom_X, custom_y['generated'])\n",
    "    train_and_evaluate(xgb_model, custom_X, custom_y['generated'])\n",
    "    train_and_evaluate(gbc_model, custom_X, custom_y['generated'])\n",
    "    train_and_evaluate(adbc_model, custom_X, custom_y['generated'])\n",
    "    train_and_evaluate(bayes_model, custom_X, custom_y['generated'])\n",
    "    train_and_evaluate(sgd_model, custom_X, custom_y['generated'])\n",
    "    train_and_evaluate(rf_model, custom_X, custom_y['generated'])\n",
    "\n",
    "    # Create an ensemble classifier\n",
    "    models = [('lr', logistic_model), ('xgb', xgb_model), ('gbc', gbc_model), ('adbc', adbc_model),\n",
    "              ('bayes', bayes_model), ('sgd', sgd_model), ('rf', rf_model)]\n",
    "\n",
    "    # Predictions using ensemble classifier\n",
    "    preds_train, preds_test = train_and_predict_ensemble(models, custom_X[:len(custom_y)], custom_y['generated'], custom_X[len(custom_y['generated']):])\n",
    "\n",
    "    # Save predictions to a CSV file\n",
    "    pd.DataFrame({'id': custom_test_df[\"id\"], 'generated': preds_test}).to_csv('submission.csv', index=False)\n"
   ]
  }
 ],
 "metadata": {
  "kaggle": {
   "accelerator": "nvidiaTeslaT4",
   "dataSources": [
    {
     "databundleVersionId": 6888007,
     "sourceId": 61542,
     "sourceType": "competition"
    },
    {
     "datasetId": 3942644,
     "sourceId": 6890527,
     "sourceType": "datasetVersion"
    },
    {
     "datasetId": 3960967,
     "sourceId": 6901341,
     "sourceType": "datasetVersion"
    },
    {
     "datasetId": 4005256,
     "sourceId": 6977472,
     "sourceType": "datasetVersion"
    }
   ],
   "dockerImageVersionId": 30626,
   "isGpuEnabled": true,
   "isInternetEnabled": false,
   "language": "python",
   "sourceType": "notebook"
  },
  "kernelspec": {
   "display_name": "Python 3",
   "language": "python",
   "name": "python3"
  },
  "language_info": {
   "codemirror_mode": {
    "name": "ipython",
    "version": 3
   },
   "file_extension": ".py",
   "mimetype": "text/x-python",
   "name": "python",
   "nbconvert_exporter": "python",
   "pygments_lexer": "ipython3",
   "version": "3.10.12"
  },
  "papermill": {
   "default_parameters": {},
   "duration": 2527.737249,
   "end_time": "2023-12-28T14:31:11.459864",
   "environment_variables": {},
   "exception": null,
   "input_path": "__notebook__.ipynb",
   "output_path": "__notebook__.ipynb",
   "parameters": {},
   "start_time": "2023-12-28T13:49:03.722615",
   "version": "2.4.0"
  }
 },
 "nbformat": 4,
 "nbformat_minor": 5
}
